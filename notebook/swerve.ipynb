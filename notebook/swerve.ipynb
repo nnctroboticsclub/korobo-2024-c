{
 "cells": [
  {
   "cell_type": "code",
   "execution_count": 1,
   "metadata": {},
   "outputs": [
    {
     "name": "stdout",
     "output_type": "stream",
     "text": [
      "Defaulting to user installation because normal site-packages is not writeable\n",
      "Requirement already satisfied: sympy in /home/vscode/.local/lib/python3.10/site-packages (1.12)\n",
      "Requirement already satisfied: mpmath>=0.19 in /home/vscode/.local/lib/python3.10/site-packages (from sympy) (1.3.0)\n",
      "IPython console for SymPy 1.12 (Python 3.10.12-64-bit) (ground types: python)\n",
      "\n",
      "These commands were executed:\n",
      ">>> from sympy import *\n",
      ">>> x, y, z, t = symbols('x y z t')\n",
      ">>> k, m, n = symbols('k m n', integer=True)\n",
      ">>> f, g, h = symbols('f g h', cls=Function)\n",
      ">>> init_printing()\n",
      "\n",
      "Documentation can be found at https://docs.sympy.org/1.12/\n",
      "\n"
     ]
    }
   ],
   "source": [
    "!python3 -m pip install sympy\n",
    "import sympy as sp\n",
    "\n",
    "sp.init_session()"
   ]
  },
  {
   "cell_type": "code",
   "execution_count": 2,
   "metadata": {},
   "outputs": [],
   "source": [
    "from sympy import Matrix, diag, symbols, Eq, solve, sqrt, sin, cos, MatrixSymbol\n",
    "\n",
    "from sympy.vector import CoordSys3D"
   ]
  },
  {
   "cell_type": "code",
   "execution_count": 3,
   "metadata": {},
   "outputs": [],
   "source": [
    "\n",
    "a0, a1, a2 = symbols(\"a_0 a_1 a_2\")\n",
    "\n",
    "c0, c1, c2 = symbols(\"c_0 c_1 c_2\")\n",
    "# C = Matrix([ [c0, c1, c2], ]).T\n",
    "C = MatrixSymbol(\"C\", 3, 1)\n",
    "\n",
    "# r = MatrixSymbol(\"r\", 1, 1)\n",
    "r = Matrix([ [symbols(\"r\")] ])\n",
    "\n",
    "v0, v1 = symbols(\"v_0 v_1\")\n",
    "v = Matrix([ [v0, v1] ]).T\n",
    "# v = MatrixSymbol(\"v\", 2, 1)\n",
    "V = v * C.T\n",
    "\n",
    "y0 = Matrix([ [sin(a0), cos(a0)] ]).T\n",
    "y1 = Matrix([ [sin(a1), cos(a1)] ]).T\n",
    "y2 = Matrix([ [sin(a2), cos(a2)] ]).T\n",
    "# y0 = MatrixSymbol(\"y0\", 2, 1)\n",
    "# y1 = MatrixSymbol(\"y1\", 2, 1)\n",
    "# y2 = MatrixSymbol(\"y2\", 2, 1)\n",
    "Y = Matrix([[ y0, y1, y2 ]])\n",
    "# Y = MatrixSymbol(\"Y\", 2, 3)\n",
    "\n",
    "\n",
    "x0 = Matrix([ [cos(a0), -sin(a0)] ]).T\n",
    "x1 = Matrix([ [cos(a1), -sin(a1)] ]).T\n",
    "x2 = Matrix([ [cos(a2), -sin(a2)] ]).T\n",
    "# x0 = MatrixSymbol(\"x0\", 2, 1)\n",
    "# x1 = MatrixSymbol(\"x1\", 2, 1)\n",
    "# x2 = MatrixSymbol(\"x2\", 2, 1)\n",
    "X = Matrix([[ x0, x1, x2 ]])\n",
    "# X = MatrixSymbol(\"X\", 2, 3)"
   ]
  },
  {
   "cell_type": "code",
   "execution_count": 372,
   "metadata": {},
   "outputs": [
    {
     "name": "stdout",
     "output_type": "stream",
     "text": [
      "Generating Eq...\n"
     ]
    },
    {
     "data": {
      "text/latex": [
       "$\\displaystyle c_{0} = 1$"
      ],
      "text/plain": [
       "c₀ = 1"
      ]
     },
     "metadata": {},
     "output_type": "display_data"
    },
    {
     "data": {
      "text/latex": [
       "$\\displaystyle c_{0} + c_{1} + c_{2} = 3$"
      ],
      "text/plain": [
       "c₀ + c₁ + c₂ = 3"
      ]
     },
     "metadata": {},
     "output_type": "display_data"
    },
    {
     "data": {
      "text/latex": [
       "$\\displaystyle \\left[\\begin{matrix}v_{0} \\left(\\sin^{2}{\\left(a_{0} \\right)} C_{0, 0} + \\sin^{2}{\\left(a_{1} \\right)} C_{1, 0} + \\sin^{2}{\\left(a_{2} \\right)} C_{2, 0}\\right) + v_{1} \\left(\\sin{\\left(a_{0} \\right)} \\cos{\\left(a_{0} \\right)} C_{0, 0} + \\sin{\\left(a_{1} \\right)} \\cos{\\left(a_{1} \\right)} C_{1, 0} + \\sin{\\left(a_{2} \\right)} \\cos{\\left(a_{2} \\right)} C_{2, 0}\\right)\\\\v_{0} \\left(\\sin{\\left(a_{0} \\right)} \\cos{\\left(a_{0} \\right)} C_{0, 0} + \\sin{\\left(a_{1} \\right)} \\cos{\\left(a_{1} \\right)} C_{1, 0} + \\sin{\\left(a_{2} \\right)} \\cos{\\left(a_{2} \\right)} C_{2, 0}\\right) + v_{1} \\left(\\cos^{2}{\\left(a_{0} \\right)} C_{0, 0} + \\cos^{2}{\\left(a_{1} \\right)} C_{1, 0} + \\cos^{2}{\\left(a_{2} \\right)} C_{2, 0}\\right)\\end{matrix}\\right] = \\left[\\begin{matrix}v_{0}\\\\v_{1}\\end{matrix}\\right]$"
      ],
      "text/plain": [
       "⎡   ⎛   2              2              2        ⎞                              \n",
       "⎢v₀⋅⎝sin (a₀)⋅C₀₀ + sin (a₁)⋅C₁₀ + sin (a₂)⋅C₂₀⎠ + v₁⋅(sin(a₀)⋅cos(a₀)⋅C₀₀ + s\n",
       "⎢                                                                             \n",
       "⎢                                                                          ⎛  \n",
       "⎣v₀⋅(sin(a₀)⋅cos(a₀)⋅C₀₀ + sin(a₁)⋅cos(a₁)⋅C₁₀ + sin(a₂)⋅cos(a₂)⋅C₂₀) + v₁⋅⎝co\n",
       "\n",
       "                                         ⎤       \n",
       "in(a₁)⋅cos(a₁)⋅C₁₀ + sin(a₂)⋅cos(a₂)⋅C₂₀)⎥   ⎡v₀⎤\n",
       "                                         ⎥ = ⎢  ⎥\n",
       " 2              2              2        ⎞⎥   ⎣v₁⎦\n",
       "s (a₀)⋅C₀₀ + cos (a₁)⋅C₁₀ + cos (a₂)⋅C₂₀⎠⎦       "
      ]
     },
     "metadata": {},
     "output_type": "display_data"
    },
    {
     "data": {
      "text/latex": [
       "$\\displaystyle C^{T} \\left[\\begin{matrix}v_{0} \\cos{\\left(a_{0} \\right)} - v_{1} \\sin{\\left(a_{0} \\right)}\\\\v_{0} \\cos{\\left(a_{1} \\right)} - v_{1} \\sin{\\left(a_{1} \\right)}\\\\v_{0} \\cos{\\left(a_{2} \\right)} - v_{1} \\sin{\\left(a_{2} \\right)}\\end{matrix}\\right] = \\left[\\begin{matrix}r\\end{matrix}\\right]$"
      ],
      "text/plain": [
       "   ⎡v₀⋅cos(a₀) - v₁⋅sin(a₀)⎤      \n",
       " T ⎢                       ⎥      \n",
       "C ⋅⎢v₀⋅cos(a₁) - v₁⋅sin(a₁)⎥ = [r]\n",
       "   ⎢                       ⎥      \n",
       "   ⎣v₀⋅cos(a₂) - v₁⋅sin(a₂)⎦      "
      ]
     },
     "metadata": {},
     "output_type": "display_data"
    }
   ],
   "source": [
    "print(\"Generating Eq...\")\n",
    "eq_c0 = Eq(c0, 1)\n",
    "eq_c = Eq(c0 + c1 + c2, 3)\n",
    "eq_v = Eq(v_calc, v)\n",
    "eq_r = Eq(r_calc, r)\n",
    "\n",
    "display(eq_c0)\n",
    "display(eq_c)\n",
    "display(eq_v)\n",
    "display(eq_r)"
   ]
  },
  {
   "cell_type": "markdown",
   "metadata": {},
   "source": [
    "## 速度"
   ]
  },
  {
   "cell_type": "code",
   "execution_count": 11,
   "metadata": {},
   "outputs": [
    {
     "data": {
      "text/latex": [
       "$\\displaystyle 1.52631578947368$"
      ],
      "text/plain": [
       "1.5263157894736843"
      ]
     },
     "metadata": {},
     "output_type": "display_data"
    },
    {
     "data": {
      "text/latex": [
       "$\\displaystyle \\left[\\begin{matrix}0.3\\\\0.3\\\\0.457894736842105\\end{matrix}\\right]$"
      ],
      "text/plain": [
       "⎡       0.3       ⎤\n",
       "⎢                 ⎥\n",
       "⎢       0.3       ⎥\n",
       "⎢                 ⎥\n",
       "⎣0.457894736842105⎦"
      ]
     },
     "metadata": {},
     "output_type": "display_data"
    }
   ],
   "source": [
    "base = 0.3\n",
    "display(580 / 380)\n",
    "\n",
    "velocity_vector = Matrix([\n",
    "  [base],\n",
    "  [base],\n",
    "  [base * 580 / 380]\n",
    "])\n",
    "display(velocity_vector)"
   ]
  }
 ],
 "metadata": {
  "kernelspec": {
   "display_name": "Python 3",
   "language": "python",
   "name": "python3"
  },
  "language_info": {
   "codemirror_mode": {
    "name": "ipython",
    "version": 3
   },
   "file_extension": ".py",
   "mimetype": "text/x-python",
   "name": "python",
   "nbconvert_exporter": "python",
   "pygments_lexer": "ipython3",
   "version": "3.10.12"
  }
 },
 "nbformat": 4,
 "nbformat_minor": 2
}
